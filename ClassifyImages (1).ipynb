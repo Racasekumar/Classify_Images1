{
  "nbformat": 4,
  "nbformat_minor": 0,
  "metadata": {
    "colab": {
      "private_outputs": true,
      "provenance": [],
      "collapsed_sections": []
    },
    "kernelspec": {
      "name": "python3",
      "display_name": "Python 3"
    },
    "language_info": {
      "name": "python"
    },
    "accelerator": "GPU",
    "gpuClass": "standard"
  },
  "cells": [
    {
      "cell_type": "code",
      "execution_count": null,
      "metadata": {
        "id": "UCdA4SJ1AuPI"
      },
      "outputs": [],
      "source": [
        "import tensorflow as tf\n",
        "from tensorflow  import keras\n",
        "from keras.models import Sequential\n",
        "from keras.layers import Dense, Flatten, Conv2D, MaxPooling2D, Dropout\n",
        "from tensorflow.keras import layers\n",
        "from tensorflow.keras.utils import to_categorical\n",
        "\n",
        "import numpy as np\n",
        "import matplotlib.pyplot as plt\n",
        "plt.style.use(\"fivethirtyeight\")"
      ]
    },
    {
      "cell_type": "code",
      "source": [
        "##Load data\n",
        "from keras.datasets import cifar10\n",
        "(x_train, y_train), (x_test, y_test) = cifar10.load_data()"
      ],
      "metadata": {
        "id": "mymXNXhKAywt"
      },
      "execution_count": null,
      "outputs": []
    },
    {
      "cell_type": "code",
      "source": [
        "## Look at the datatypes\n",
        "print(type(x_train))\n",
        "print(type(y_train))\n",
        "print(type(x_test))\n",
        "print(type(y_test))"
      ],
      "metadata": {
        "id": "_HU6upBQA0U8"
      },
      "execution_count": null,
      "outputs": []
    },
    {
      "cell_type": "code",
      "source": [
        "# Get the shape of the arrays\n",
        "print(\"x_train shape:\", x_train.shape)\n",
        "print(\"y_train shape:\", y_train.shape)\n",
        "print(\"x_test shape:\", x_test.shape)\n",
        "print(\"y_test shape:\", y_test.shape)"
      ],
      "metadata": {
        "id": "n8e5dfkwBcga"
      },
      "execution_count": null,
      "outputs": []
    },
    {
      "cell_type": "code",
      "source": [
        "#Take a look at the first image as an array\n",
        "index = 45\n",
        "x_train[index]"
      ],
      "metadata": {
        "id": "iwVXjZ6jBdAw"
      },
      "execution_count": null,
      "outputs": []
    },
    {
      "cell_type": "code",
      "source": [
        "# get the image label\n",
        "print(\"The image label is:\", y_train[index])"
      ],
      "metadata": {
        "id": "5La8pOxnCJhh"
      },
      "execution_count": null,
      "outputs": []
    },
    {
      "cell_type": "code",
      "source": [
        "# Get the image classification\n",
        "classification = [\"airplane\", \"automobile\", \"bird\", \"cat\", \"deer\", \"dog\", \"frog\", \"horse\",\"ship\",\"truck\"]\n",
        "#print the image class\n",
        "print(\"The image class is:\",classification[y_train[index][0]])"
      ],
      "metadata": {
        "id": "qS3jNsgQCsN6"
      },
      "execution_count": null,
      "outputs": []
    },
    {
      "cell_type": "code",
      "source": [
        "#Conver the labels into a set of 10 numbers to input into the neural network\n",
        "y_train_one_hot = to_categorical(y_train)\n",
        "y_test_one_hot = to_categorical(y_test)"
      ],
      "metadata": {
        "id": "5zWEumuMDRRw"
      },
      "execution_count": null,
      "outputs": []
    },
    {
      "cell_type": "code",
      "source": [
        "#Print the new labels\n",
        "print(y_test_one_hot)"
      ],
      "metadata": {
        "id": "crZ_Umx6EHsx"
      },
      "execution_count": null,
      "outputs": []
    },
    {
      "cell_type": "code",
      "source": [
        "# Print the new label of the image/picture above\n",
        "print(\"The one hot label is:\", y_train_one_hot[index])"
      ],
      "metadata": {
        "id": "imLK_1yQEM-W"
      },
      "execution_count": null,
      "outputs": []
    },
    {
      "cell_type": "code",
      "source": [
        "# Normalize the pixels to be values between 0 and 1\n",
        "x_train = x_train/255\n",
        "x_test = x_test/255"
      ],
      "metadata": {
        "id": "TaUp88w2EcUf"
      },
      "execution_count": null,
      "outputs": []
    },
    {
      "cell_type": "code",
      "source": [
        "x_train[index]"
      ],
      "metadata": {
        "id": "pZfvhbl0EpLm"
      },
      "execution_count": null,
      "outputs": []
    },
    {
      "cell_type": "code",
      "source": [
        "# Create the mode's architecture\n",
        "model = Sequential()\n",
        "\n",
        "# Add the first layer\n",
        "model.add(Conv2D(32, (5,5), 1, activation =\"relu\", input_shape=(32,32,3)))\n",
        "\n",
        "# Add a pooling layer\n",
        "model.add(MaxPooling2D(pool_size=(2,2)))\n",
        "\n",
        "# Add Convolution layer\n",
        "model.add(Conv2D(32, (5,5), 1, activation =\"relu\"))\n",
        "\n",
        "# Add a pooling layer\n",
        "model.add(MaxPooling2D(pool_size=(2,2)))\n",
        "\n",
        "# Add a flattening layer\n",
        "model.add(Flatten())\n",
        "\n",
        "# Add a layer with 1024 neurons\n",
        "model.add(Dense(1024, activation=\"relu\"))\n",
        "\n",
        "# Add a drop out layer\n",
        "model.add(Dropout(0.5))\n",
        "\n",
        "# Add a layer with 512 neurons\n",
        "model.add(Dense(512, activation=\"relu\"))\n",
        "\n",
        "# Add a drop out layer\n",
        "model.add(Dropout(0.5))\n",
        "\n",
        "# Add a layer with 256 neurons\n",
        "model.add(Dense(256, activation=\"relu\"))\n",
        "\n",
        "# Add a layer with 10 neurons\n",
        "model.add(Dense(10, activation=\"softmax\"))\n"
      ],
      "metadata": {
        "id": "AdIC1iunEss6"
      },
      "execution_count": null,
      "outputs": []
    },
    {
      "cell_type": "code",
      "source": [
        "# Compile the model\n",
        "model.compile(loss=\"categorical_crossentropy\",\n",
        "              optimizer=\"adam\",\n",
        "              metrics=[\"accuracy\"])"
      ],
      "metadata": {
        "id": "F23oXqCBGbH6"
      },
      "execution_count": null,
      "outputs": []
    },
    {
      "cell_type": "code",
      "source": [
        "# Train the model\n",
        "hist = model.fit(x_train,y_train_one_hot,\n",
        "                 batch_size=256,\n",
        "                 epochs=10,\n",
        "                 validation_split=0.2)"
      ],
      "metadata": {
        "id": "5fTqUncCGoF9"
      },
      "execution_count": null,
      "outputs": []
    },
    {
      "cell_type": "code",
      "source": [
        "# Evaluate the model using the test dataset\n",
        "model.evaluate(x_test, y_test_one_hot)[1]"
      ],
      "metadata": {
        "id": "mhrAWfFaG5oH"
      },
      "execution_count": null,
      "outputs": []
    },
    {
      "cell_type": "code",
      "source": [
        "# Visualize the model's accuracy\n",
        "plt.plot(hist.history[\"accuracy\"])\n",
        "plt.plot(hist.history[\"val_accuracy\"])\n",
        "plt.title(\"Model's Accuracy\")\n",
        "plt.ylabel(\"Accuracy\")\n",
        "plt.xlabel(\"Epochs\")\n",
        "plt.legend([\"Train\", \"Val\"], loc =\"upper left\")\n",
        "plt.show()"
      ],
      "metadata": {
        "id": "S_i-7FYcH-iE"
      },
      "execution_count": null,
      "outputs": []
    },
    {
      "cell_type": "code",
      "source": [
        "# Visualize the model's loss\n",
        "plt.plot(hist.history[\"loss\"])\n",
        "plt.plot(hist.history[\"val_loss\"])\n",
        "plt.title(\"Model's loss\")\n",
        "plt.ylabel(\"Loss\")\n",
        "plt.xlabel(\"Epochs\")\n",
        "plt.legend([\"Train\", \"Val\"], loc =\"upper right\")\n",
        "plt.show()"
      ],
      "metadata": {
        "id": "IFCymzW2InPk"
      },
      "execution_count": null,
      "outputs": []
    },
    {
      "cell_type": "code",
      "source": [
        "# Test the modle with an example\n",
        "new_image = plt.imread(\"/content/truck.jpg\")\n",
        "img = plt.imshow(new_image)\n"
      ],
      "metadata": {
        "id": "pQOSl0P6JCkC"
      },
      "execution_count": null,
      "outputs": []
    },
    {
      "cell_type": "code",
      "source": [
        "#Resize the image\n",
        "import cv2\n",
        "resized_image =cv2.resize(new_image,(32,32))\n",
        "img = plt.imshow(resized_image)"
      ],
      "metadata": {
        "id": "qAVg8qHpKVNU"
      },
      "execution_count": null,
      "outputs": []
    },
    {
      "cell_type": "code",
      "source": [
        "# Get the models predictions\n",
        "predictions = model.predict(np.array([resized_image]))\n",
        "#Show the predictions\n",
        "predictions"
      ],
      "metadata": {
        "id": "_ay7XnhijCyg"
      },
      "execution_count": null,
      "outputs": []
    },
    {
      "cell_type": "code",
      "source": [
        "# sort the predictions from least to greatest\n",
        "list_index = [0,1,2,3,4,5,6,7,8,9]\n",
        "x = predictions\n",
        "\n",
        "for i in range(10):\n",
        "  for j in range(10):\n",
        "    if x[0][list_index[i]] > x[0][list_index[j]]:\n",
        "      temp = list_index[i]\n",
        "      list_index[i] = list_index[j]\n",
        "      list_index[j] = temp\n",
        "# sgow shorted labels in oreder\n",
        "print(list_index)"
      ],
      "metadata": {
        "id": "kkaFXLJCjUIa"
      },
      "execution_count": null,
      "outputs": []
    },
    {
      "cell_type": "code",
      "source": [
        "# print the first 5 predictions\n",
        "for i in range(5):\n",
        "  print(classification[list_index[i]], \":\",round(predictions[0][list_index[i]] * 100,2),\"%\")"
      ],
      "metadata": {
        "id": "4Pi8Mko-jUcb"
      },
      "execution_count": null,
      "outputs": []
    },
    {
      "cell_type": "code",
      "source": [],
      "metadata": {
        "id": "OiFFndA8kpG4"
      },
      "execution_count": null,
      "outputs": []
    }
  ]
}